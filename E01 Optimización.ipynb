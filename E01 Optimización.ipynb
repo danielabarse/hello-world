{
 "cells": [
  {
   "cell_type": "markdown",
   "id": "429df446",
   "metadata": {},
   "source": [
    "## Daniela Serrano Barba"
   ]
  },
  {
   "cell_type": "markdown",
   "id": "1e2823cf",
   "metadata": {},
   "source": [
    "# Examen A Módulo 1 - Optimización.\n",
    "\n",
    "**Lea cuidadosamente las siguientes indicaciones antes de comenzar el examen:**\n",
    "- Para resolver el examen edite este mismo archivo y renómbrelo de la siguiente manera: *Examen1_ApellidoNombre*, donde *ApellidoNombre* corresponde a su apellido paterno con la inicial en mayúscula, seguido de su primer nombre con la inicial en mayúscula **sin acentos**. Por ejemplo, en mi caso el nombre del archivo sería *Examen1_MoralesGabriel*.\n",
    "- Resuelva los puntos en el espacio provisto. Si requiere agregar más celdas para código o escritura, hágalo (`Esc`,`B`) o (`Esc`,`A`).\n",
    "- Recuerde que también se está evaluando su capacidad de interpretar los resultados. Escriba sus interpretaciones/conclusiones en celdas utilizando *Markdown*.\n",
    "- El formato de presentación de todo el examen en general debe ser adecuado. Use tamaños de letra, colores, etiquetas, etcétera.\n",
    "- No se resuelven dudas de ningún tipo por los profesores de la asignatura. Por favor, absténgase de preguntar.\n",
    "- Revise bien el tipo de examen. Sólo se le calificará si realiza el tipo de examen asignado."
   ]
  },
  {
   "cell_type": "markdown",
   "id": "53712a36",
   "metadata": {},
   "source": [
    "---\n",
    "# Primer punto. Optimización de funciones con `SymPy` (37 puntos)\n",
    "\n",
    "**Costo mínimo**. Imagine dos contenedores cilíndricos sin tapa que deben satisfacer las siguientes condiciones:\n",
    "\n",
    "- El primer contenedor tiene el doble de altura que el segundo.\n",
    "- La altura del primer contenedor (el de mayor tamaño) es el doble de su radio.\n",
    "- El material para la base cuesta 10.00 MXN por cada $m^2$.\n",
    "- El material para los lados cuesta 6.00 MXN por cada $m^2$.\n",
    "\n",
    "¿Cuál es el costo del contenedor más barato?\n"
   ]
  },
  {
   "cell_type": "markdown",
   "id": "9913d3d8",
   "metadata": {},
   "source": [
    "1. Escriba el volumen $V_1(r_1)$ y $V_2(r_2, r_1)$ de ambos contenedores como dos funciones distintas, donde $r_1$ es el radio del primer contenedor y $r_2$ es el radio del segundo. Realice este punto usando $\\LaTeX$ y celdas *Markdown*."
   ]
  },
  {
   "cell_type": "markdown",
   "id": "a387e2cb",
   "metadata": {},
   "source": []
  },
  {
   "cell_type": "markdown",
   "id": "741758e5",
   "metadata": {},
   "source": []
  },
  {
   "cell_type": "markdown",
   "id": "44e2ece6",
   "metadata": {},
   "source": []
  },
  {
   "cell_type": "markdown",
   "id": "a14300ff",
   "metadata": {},
   "source": [
    "$$ v1(r_1) = (pi)(r_1^2)(x)  $$ "
   ]
  },
  {
   "cell_type": "markdown",
   "id": "cba1199f",
   "metadata": {},
   "source": [
    "$$ v2(r_2,r_1) = (pi)(r_2^2)(x) $$"
   ]
  },
  {
   "cell_type": "markdown",
   "id": "24f75115",
   "metadata": {},
   "source": []
  },
  {
   "cell_type": "code",
   "execution_count": null,
   "id": "78a5e0ee",
   "metadata": {},
   "outputs": [],
   "source": []
  },
  {
   "cell_type": "code",
   "execution_count": 1,
   "id": "7fba85e4",
   "metadata": {},
   "outputs": [],
   "source": [
    "import sympy as sp\n",
    "import numpy as np\n",
    "\n",
    "def v1(r1):\n",
    "    return (sp.pi)*()"
   ]
  },
  {
   "cell_type": "code",
   "execution_count": null,
   "id": "a97b2d30",
   "metadata": {},
   "outputs": [],
   "source": []
  },
  {
   "cell_type": "markdown",
   "id": "ee04a16b",
   "metadata": {},
   "source": [
    "2. Escriba el costo **C** de fabricar ambos contenedores como una función de los radios de las bases. Realice este punto usando $\\LaTeX$ y celdas *Markdown*."
   ]
  },
  {
   "cell_type": "markdown",
   "id": "fed271d9",
   "metadata": {},
   "source": []
  },
  {
   "cell_type": "markdown",
   "id": "e1d653a4",
   "metadata": {},
   "source": []
  },
  {
   "cell_type": "markdown",
   "id": "d0ed3f7f",
   "metadata": {},
   "source": []
  },
  {
   "cell_type": "code",
   "execution_count": null,
   "id": "d9978333",
   "metadata": {},
   "outputs": [],
   "source": [
    "import sympy as sp\n",
    "import numy as np\n",
    "\n",
    "sp.var(\"x\")\n",
    "\n",
    "def"
   ]
  },
  {
   "cell_type": "markdown",
   "id": "a1e58696",
   "metadata": {},
   "source": [
    "3. Determina las dimensiones de los contenedores si el volumen del contenedor pequeño debe ser de $12m^3$ y el costo debe ser mínimo."
   ]
  },
  {
   "cell_type": "code",
   "execution_count": null,
   "id": "f4a7593c",
   "metadata": {},
   "outputs": [],
   "source": []
  },
  {
   "cell_type": "code",
   "execution_count": null,
   "id": "d73359e2",
   "metadata": {},
   "outputs": [],
   "source": []
  },
  {
   "cell_type": "code",
   "execution_count": null,
   "id": "28ac84fc",
   "metadata": {},
   "outputs": [],
   "source": []
  },
  {
   "cell_type": "markdown",
   "id": "fec1be1e",
   "metadata": {},
   "source": [
    "3. ¿Cuál fue el costo de fabricar este par de contenedores?"
   ]
  },
  {
   "cell_type": "code",
   "execution_count": null,
   "id": "3da98dd3",
   "metadata": {},
   "outputs": [],
   "source": []
  },
  {
   "cell_type": "code",
   "execution_count": null,
   "id": "8cd979f9",
   "metadata": {},
   "outputs": [],
   "source": []
  },
  {
   "cell_type": "code",
   "execution_count": null,
   "id": "06662bea",
   "metadata": {},
   "outputs": [],
   "source": []
  },
  {
   "cell_type": "markdown",
   "id": "4eeff9c8",
   "metadata": {},
   "source": [
    "---\n",
    "# Segundo punto. Programación lineal (37 puntos)"
   ]
  },
  {
   "cell_type": "markdown",
   "id": "8013ca31",
   "metadata": {},
   "source": [
    "Una empresa se dedica a fabricar tarjetas de control para automóviles, y están en su momento de planeación de compras anuales. Hay 5 proveedores que pueden proveer los componentes, cada uno a su propio precio."
   ]
  },
  {
   "cell_type": "markdown",
   "id": "f41253d2",
   "metadata": {},
   "source": [
    "<table>\n",
    "  <tr>\n",
    "      <th>  </th>\n",
    "      <th>Proveedor 1</th>\n",
    "      <th>Proveedor 2</th>\n",
    "      <th>Proveedor 3</th>\n",
    "      <th>Demanda</th>\n",
    "  </tr>\n",
    "  <tr>\n",
    "      <th>Componente 1</th>\n",
    "      <td>0.5</td>\n",
    "      <td>0.6</td>\n",
    "      <td>0.7</td>\n",
    "      <td>15000</td>\n",
    "  </tr>\n",
    "  <tr style=\"border-bottom: 1px solid #000;\">\n",
    "      <th>Componente 2</th>\n",
    "      <td>0.7</td>\n",
    "      <td>0.5</td>\n",
    "      <td>0.6</td>\n",
    "      <td>20000</td>\n",
    "  </tr>\n",
    "  <tr style=\"border-bottom: 1px solid #000;\">\n",
    "      <th>Componente 3</th>\n",
    "      <td>0.32</td>\n",
    "      <td>0.54</td>\n",
    "      <td>0.8</td>\n",
    "      <td>12000</td>\n",
    "  </tr>\n",
    "\n",
    "  <tr style=\"border-bottom: 1px solid #000;\">\n",
    "      <th>Capacidad</th>\n",
    "      <td> 21000 </td>\n",
    "      <td> 16000 </td>\n",
    "      <td> 16000 </td>\n",
    "      <td>  </td>\n",
    "  </tr>\n",
    "</table>"
   ]
  },
  {
   "cell_type": "markdown",
   "id": "48d6c967",
   "metadata": {},
   "source": [
    "El proveedor tiene restricciones de capacidad de fabricación del tipo de componentes, por lo que un proveedor no puede satisfacer nuestra demanda completa para cada componente."
   ]
  },
  {
   "cell_type": "markdown",
   "id": "85e307ae",
   "metadata": {},
   "source": [
    "Se desea conocer la cantidad que se debe comprar de cada componente a cada proveedor para gastar la menor cantidad de dinero posible, pero al mismo tiempo lograr satisfacer la demanda para poder continuar con la manufactura del producto."
   ]
  },
  {
   "cell_type": "markdown",
   "id": "df55a736",
   "metadata": {},
   "source": [
    "1. Escriba la función a **minimizar** junto con las restricciones, explicando detalladamente cada paso (usando fórmulas en $\\LaTeX$, en celdas Markdown). Además escriba el problema en la forma \\begin{equation}\n",
    "\\begin{array}{ll}\n",
    "\\min_{\\boldsymbol{x}} & \\boldsymbol{c}^T\\boldsymbol{x} \\\\\n",
    "\\text{s. a. }        & \\boldsymbol{A}_{eq}\\boldsymbol{x}=\\boldsymbol{b}_{eq} \\\\\n",
    "                     & \\boldsymbol{A}\\boldsymbol{x}\\leq\\boldsymbol{b},\n",
    "\\end{array}\\qquad\\text{(23 puntos)}\n",
    "\\end{equation}"
   ]
  },
  {
   "cell_type": "markdown",
   "id": "04ce36d6",
   "metadata": {},
   "source": []
  },
  {
   "cell_type": "markdown",
   "id": "d4c96539",
   "metadata": {},
   "source": []
  },
  {
   "cell_type": "markdown",
   "id": "4f8863ce",
   "metadata": {},
   "source": []
  },
  {
   "cell_type": "markdown",
   "id": "f5d68593",
   "metadata": {},
   "source": [
    "lo que se busca es minimizar el costo de cada componente"
   ]
  },
  {
   "cell_type": "markdown",
   "id": "96d67fae",
   "metadata": {},
   "source": [
    "- x1 = componente 1 con el provedor 1\n",
    "- x2 = componente 1 con el provedor 2\n",
    "- x3 = componente 1 con el provedor 3\n",
    "- x4 = componente 2 con el provedor 1\n",
    "- x5 = componente 2 con el provedor 2\n",
    "- x6 = componente 2 con el provedor 3\n",
    "- x7 = componente 3 con el provedor 1\n",
    "- x8 = componente 3 con el provedor 2\n",
    "- x9 = componente 3 con el provedor 3"
   ]
  },
  {
   "cell_type": "markdown",
   "id": "6c1e3c9a",
   "metadata": {},
   "source": [
    "2. Resuelva el problema utilizando la función `linprog`. ¿Cómo debe ser la distribución de compras? ¿Cuánto dinero se necesita para satisfacer la demanda? (10 puntos)"
   ]
  },
  {
   "cell_type": "markdown",
   "id": "1c204bb3",
   "metadata": {},
   "source": [
    "### Restricciones"
   ]
  },
  {
   "cell_type": "markdown",
   "id": "0b116224",
   "metadata": {},
   "source": [
    "igualdades"
   ]
  },
  {
   "cell_type": "markdown",
   "id": "8ddd934b",
   "metadata": {},
   "source": [
    "$$ 0.5x1 + 0.6x2 + 0.7x3 = 15000 $$\n",
    "$$ 0.7x4 + 0.5x5 + 0.6x6 = 20000 $$\n",
    "$$ 0.32x7 + 0.54x8 + 0.8x9 = 12000 $$"
   ]
  },
  {
   "cell_type": "markdown",
   "id": "bd4c8e92",
   "metadata": {},
   "source": [
    "máximos "
   ]
  },
  {
   "cell_type": "markdown",
   "id": "96406692",
   "metadata": {},
   "source": [
    "$$ x1 + x4 + x7 \\leq 21000 $$\n",
    "$$ x2 + x5 + x8 \\leq 16000 $$\n",
    "$$ x3 + x6 + x9 \\leq 16000 $$"
   ]
  },
  {
   "cell_type": "markdown",
   "id": "39db0939",
   "metadata": {},
   "source": [
    "función"
   ]
  },
  {
   "cell_type": "markdown",
   "id": "e7d9c680",
   "metadata": {},
   "source": [
    "$$ 0.5x_1 + 0.6x_2 + 0.7x_3 + 0.7x_4 + 0.5x_5 + 0.6x_6 + 0.32x_7 + 0.54x_5 + 0.8x_9$$"
   ]
  },
  {
   "cell_type": "code",
   "execution_count": 17,
   "id": "976f0323",
   "metadata": {},
   "outputs": [
    {
     "data": {
      "text/plain": [
       "        message: Optimization terminated successfully. (HiGHS Status 7: Optimal)\n",
       "        success: True\n",
       "         status: 0\n",
       "            fun: 14990.0\n",
       "              x: [ 1.500e+03  0.000e+00  0.000e+00  0.000e+00  1.600e+04\n",
       "                   4.000e+03  1.200e+04  0.000e+00  0.000e+00]\n",
       "            nit: 4\n",
       "          lower:  residual: [ 1.500e+03  0.000e+00  0.000e+00  0.000e+00\n",
       "                              1.600e+04  4.000e+03  1.200e+04  0.000e+00\n",
       "                              0.000e+00]\n",
       "                 marginals: [ 0.000e+00  2.000e-01  2.000e-01  1.000e-01\n",
       "                              0.000e+00  0.000e+00  0.000e+00  3.200e-01\n",
       "                              4.800e-01]\n",
       "          upper:  residual: [       inf        inf        inf        inf\n",
       "                                    inf        inf        inf        inf\n",
       "                                    inf]\n",
       "                 marginals: [ 0.000e+00  0.000e+00  0.000e+00  0.000e+00\n",
       "                              0.000e+00  0.000e+00  0.000e+00  0.000e+00\n",
       "                              0.000e+00]\n",
       "          eqlin:  residual: [ 0.000e+00  0.000e+00  0.000e+00]\n",
       "                 marginals: [ 5.000e-01  6.000e-01  3.200e-01]\n",
       "        ineqlin:  residual: [ 7.500e+03  0.000e+00  1.200e+04]\n",
       "                 marginals: [-0.000e+00 -1.000e-01 -0.000e+00]\n",
       " mip_node_count: 0\n",
       " mip_dual_bound: 0.0\n",
       "        mip_gap: 0.0"
      ]
     },
     "execution_count": 17,
     "metadata": {},
     "output_type": "execute_result"
    }
   ],
   "source": [
    "import numpy as np\n",
    "import scipy.optimize as opt\n",
    "\n",
    "c = np.array([0.5,\n",
    "              0.6,\n",
    "              0.7,\n",
    "              0.7,\n",
    "              0.5,\n",
    "              0.6,\n",
    "              0.32,\n",
    "              0.54,\n",
    "              0.8])\n",
    "\n",
    "Aub = np.array ([\n",
    "    [1, 0, 0, 1, 0, 0, 1, 0, 0],\n",
    "    [0, 1, 0, 0, 1, 0, 0, 1, 0], \n",
    "    [0, 0, 1, 0, 0, 1, 0, 0, 1]\n",
    "])\n",
    "\n",
    "\n",
    "bub= np. array([21000,\n",
    "                16000,\n",
    "                16000])\n",
    "\n",
    "\n",
    "Aeq = np. array ([\n",
    "    [1, 1, 1, 0, 0, 0, 0, 0, 0],\n",
    "    [0, 0, 0, 1, 1, 1, 0, 0, 0], \n",
    "    [0, 0, 0, 0, 0, 0, 1, 1, 1]\n",
    "])\n",
    "\n",
    "beq= np.array([1500,\n",
    "              20000,\n",
    "              12000])\n",
    "\n",
    "opt.linprog(c, Aub, bub, Aeq, beq)"
   ]
  },
  {
   "cell_type": "markdown",
   "id": "2a6218c1",
   "metadata": {},
   "source": [
    "para este caso se deben de comprar\n",
    "- 1500 Componente 1 al provedor 1\n",
    "- 0 Componente 2 al provedor 1\n",
    "- O Componente 3 al provedor 1\n",
    "- 0 Componente 1 al provedor 2\n",
    "- 16000 Componente 2 al provedor 2\n",
    "- 4000 Componente 3 al provedor 2\n",
    "- 12000 Componente 1 al provedor 3\n",
    "- O Componente 2 al provedor 3\n",
    "- O Componente 3 al provedor 3"
   ]
  },
  {
   "cell_type": "markdown",
   "id": "11d06c61",
   "metadata": {},
   "source": [
    "Mi error fue no confundirme con como acomodar la ecuacion principal, con los precios. Ya teniendolo me resutloi muy fácil seguir con el procedimiento el cual llevamos en clase. "
   ]
  },
  {
   "cell_type": "markdown",
   "id": "4db127e8",
   "metadata": {},
   "source": [
    "Lo corregí al ponerle el coeficiente de las x segun la tabla, de ahí pude partir y resolverlo. \n"
   ]
  },
  {
   "cell_type": "markdown",
   "id": "a0cc47a5",
   "metadata": {},
   "source": [
    "Puedo evitarlo poniendo atencion a lo pedido y a como me entregan la información."
   ]
  },
  {
   "cell_type": "markdown",
   "id": "5663a48b",
   "metadata": {},
   "source": [
    "# Tercer punto. Ajuste de curvas (36 puntos)\n",
    "\n",
    "Utiliza el archivo adjunto en Canvas en el apartado que corresponde al examen."
   ]
  },
  {
   "cell_type": "markdown",
   "id": "c673e9e6",
   "metadata": {},
   "source": [
    "Escribe tu número de expediente: "
   ]
  },
  {
   "cell_type": "markdown",
   "id": "da3c6c2e",
   "metadata": {},
   "source": [
    "Lee el archivo y extrae la siguiente información:\n",
    "- $x$ es la primer columna del archivo\n",
    "- $y$ es la columna correspondiente a los últimos dos dígitos de tu número de expediente + 1. E.g. mi expediente es $693871$; por lo tanto, debo usar la columna $72$."
   ]
  },
  {
   "cell_type": "code",
   "execution_count": 19,
   "id": "46fbbaf5",
   "metadata": {},
   "outputs": [
    {
     "data": {
      "text/html": [
       "<div>\n",
       "<style scoped>\n",
       "    .dataframe tbody tr th:only-of-type {\n",
       "        vertical-align: middle;\n",
       "    }\n",
       "\n",
       "    .dataframe tbody tr th {\n",
       "        vertical-align: top;\n",
       "    }\n",
       "\n",
       "    .dataframe thead th {\n",
       "        text-align: right;\n",
       "    }\n",
       "</style>\n",
       "<table border=\"1\" class=\"dataframe\">\n",
       "  <thead>\n",
       "    <tr style=\"text-align: right;\">\n",
       "      <th></th>\n",
       "      <th>0</th>\n",
       "      <th>1</th>\n",
       "      <th>2</th>\n",
       "      <th>3</th>\n",
       "      <th>4</th>\n",
       "      <th>5</th>\n",
       "      <th>6</th>\n",
       "      <th>7</th>\n",
       "      <th>8</th>\n",
       "      <th>9</th>\n",
       "      <th>...</th>\n",
       "      <th>91</th>\n",
       "      <th>92</th>\n",
       "      <th>93</th>\n",
       "      <th>94</th>\n",
       "      <th>95</th>\n",
       "      <th>96</th>\n",
       "      <th>97</th>\n",
       "      <th>98</th>\n",
       "      <th>99</th>\n",
       "      <th>100</th>\n",
       "    </tr>\n",
       "  </thead>\n",
       "  <tbody>\n",
       "    <tr>\n",
       "      <th>0</th>\n",
       "      <td>0.000000</td>\n",
       "      <td>4.983091</td>\n",
       "      <td>3.769339</td>\n",
       "      <td>5.594828</td>\n",
       "      <td>6.429803</td>\n",
       "      <td>4.511528</td>\n",
       "      <td>6.706383</td>\n",
       "      <td>2.911751</td>\n",
       "      <td>-2.864652</td>\n",
       "      <td>-3.093433</td>\n",
       "      <td>...</td>\n",
       "      <td>6.667738</td>\n",
       "      <td>5.885562</td>\n",
       "      <td>-2.052453</td>\n",
       "      <td>-2.984045</td>\n",
       "      <td>5.750429</td>\n",
       "      <td>2.135754</td>\n",
       "      <td>-1.234049</td>\n",
       "      <td>3.500585</td>\n",
       "      <td>3.206284</td>\n",
       "      <td>-2.015092</td>\n",
       "    </tr>\n",
       "    <tr>\n",
       "      <th>1</th>\n",
       "      <td>0.002002</td>\n",
       "      <td>3.614394</td>\n",
       "      <td>2.396633</td>\n",
       "      <td>4.225133</td>\n",
       "      <td>5.058559</td>\n",
       "      <td>3.141485</td>\n",
       "      <td>5.346220</td>\n",
       "      <td>1.538843</td>\n",
       "      <td>-4.236502</td>\n",
       "      <td>-4.464649</td>\n",
       "      <td>...</td>\n",
       "      <td>5.312463</td>\n",
       "      <td>4.525002</td>\n",
       "      <td>-3.410375</td>\n",
       "      <td>-4.346935</td>\n",
       "      <td>4.396159</td>\n",
       "      <td>0.773647</td>\n",
       "      <td>-2.607035</td>\n",
       "      <td>2.130640</td>\n",
       "      <td>1.840478</td>\n",
       "      <td>-3.376963</td>\n",
       "    </tr>\n",
       "    <tr>\n",
       "      <th>2</th>\n",
       "      <td>0.004004</td>\n",
       "      <td>4.188195</td>\n",
       "      <td>2.966396</td>\n",
       "      <td>4.797931</td>\n",
       "      <td>5.629813</td>\n",
       "      <td>3.713902</td>\n",
       "      <td>5.928572</td>\n",
       "      <td>2.108423</td>\n",
       "      <td>-3.665847</td>\n",
       "      <td>-3.893386</td>\n",
       "      <td>...</td>\n",
       "      <td>5.899704</td>\n",
       "      <td>5.106895</td>\n",
       "      <td>-2.825807</td>\n",
       "      <td>-3.767381</td>\n",
       "      <td>4.984377</td>\n",
       "      <td>1.354042</td>\n",
       "      <td>-2.037531</td>\n",
       "      <td>2.703165</td>\n",
       "      <td>2.417138</td>\n",
       "      <td>-2.796368</td>\n",
       "    </tr>\n",
       "    <tr>\n",
       "      <th>3</th>\n",
       "      <td>0.006006</td>\n",
       "      <td>5.445592</td>\n",
       "      <td>4.219727</td>\n",
       "      <td>6.054320</td>\n",
       "      <td>6.884664</td>\n",
       "      <td>4.969878</td>\n",
       "      <td>7.194535</td>\n",
       "      <td>3.361588</td>\n",
       "      <td>-2.411586</td>\n",
       "      <td>-2.638543</td>\n",
       "      <td>...</td>\n",
       "      <td>7.170558</td>\n",
       "      <td>6.372337</td>\n",
       "      <td>-1.557653</td>\n",
       "      <td>-2.504284</td>\n",
       "      <td>6.256181</td>\n",
       "      <td>2.618039</td>\n",
       "      <td>-0.784438</td>\n",
       "      <td>3.959257</td>\n",
       "      <td>3.677362</td>\n",
       "      <td>-1.532206</td>\n",
       "    </tr>\n",
       "    <tr>\n",
       "      <th>4</th>\n",
       "      <td>0.008008</td>\n",
       "      <td>5.067521</td>\n",
       "      <td>3.837561</td>\n",
       "      <td>5.675236</td>\n",
       "      <td>6.504048</td>\n",
       "      <td>4.590350</td>\n",
       "      <td>6.825046</td>\n",
       "      <td>2.979275</td>\n",
       "      <td>-2.792786</td>\n",
       "      <td>-3.019186</td>\n",
       "      <td>...</td>\n",
       "      <td>6.805961</td>\n",
       "      <td>6.002265</td>\n",
       "      <td>-1.924977</td>\n",
       "      <td>-2.876709</td>\n",
       "      <td>5.892506</td>\n",
       "      <td>2.246572</td>\n",
       "      <td>-1.166821</td>\n",
       "      <td>3.579851</td>\n",
       "      <td>3.302087</td>\n",
       "      <td>-1.903542</td>\n",
       "    </tr>\n",
       "    <tr>\n",
       "      <th>...</th>\n",
       "      <td>...</td>\n",
       "      <td>...</td>\n",
       "      <td>...</td>\n",
       "      <td>...</td>\n",
       "      <td>...</td>\n",
       "      <td>...</td>\n",
       "      <td>...</td>\n",
       "      <td>...</td>\n",
       "      <td>...</td>\n",
       "      <td>...</td>\n",
       "      <td>...</td>\n",
       "      <td>...</td>\n",
       "      <td>...</td>\n",
       "      <td>...</td>\n",
       "      <td>...</td>\n",
       "      <td>...</td>\n",
       "      <td>...</td>\n",
       "      <td>...</td>\n",
       "      <td>...</td>\n",
       "      <td>...</td>\n",
       "      <td>...</td>\n",
       "    </tr>\n",
       "    <tr>\n",
       "      <th>995</th>\n",
       "      <td>1.991992</td>\n",
       "      <td>-37.621743</td>\n",
       "      <td>-26.216957</td>\n",
       "      <td>2.179613</td>\n",
       "      <td>34.525805</td>\n",
       "      <td>-81.587062</td>\n",
       "      <td>44.262737</td>\n",
       "      <td>22.788572</td>\n",
       "      <td>58.082286</td>\n",
       "      <td>-69.526880</td>\n",
       "      <td>...</td>\n",
       "      <td>-57.907315</td>\n",
       "      <td>-30.282534</td>\n",
       "      <td>2.509291</td>\n",
       "      <td>-114.436776</td>\n",
       "      <td>14.101042</td>\n",
       "      <td>109.678623</td>\n",
       "      <td>11.649459</td>\n",
       "      <td>0.666863</td>\n",
       "      <td>27.882475</td>\n",
       "      <td>93.843512</td>\n",
       "    </tr>\n",
       "    <tr>\n",
       "      <th>996</th>\n",
       "      <td>1.993994</td>\n",
       "      <td>-38.413531</td>\n",
       "      <td>-26.940495</td>\n",
       "      <td>1.526510</td>\n",
       "      <td>34.067619</td>\n",
       "      <td>-82.481098</td>\n",
       "      <td>43.789529</td>\n",
       "      <td>22.302350</td>\n",
       "      <td>57.727557</td>\n",
       "      <td>-70.383159</td>\n",
       "      <td>...</td>\n",
       "      <td>-58.823098</td>\n",
       "      <td>-31.021199</td>\n",
       "      <td>1.898045</td>\n",
       "      <td>-115.441524</td>\n",
       "      <td>13.503160</td>\n",
       "      <td>109.438779</td>\n",
       "      <td>11.124500</td>\n",
       "      <td>0.086051</td>\n",
       "      <td>27.430621</td>\n",
       "      <td>93.598580</td>\n",
       "    </tr>\n",
       "    <tr>\n",
       "      <th>997</th>\n",
       "      <td>1.995996</td>\n",
       "      <td>-38.302053</td>\n",
       "      <td>-26.760562</td>\n",
       "      <td>1.777022</td>\n",
       "      <td>34.513839</td>\n",
       "      <td>-82.472001</td>\n",
       "      <td>44.220604</td>\n",
       "      <td>22.720442</td>\n",
       "      <td>58.277463</td>\n",
       "      <td>-70.336305</td>\n",
       "      <td>...</td>\n",
       "      <td>-58.835998</td>\n",
       "      <td>-30.856352</td>\n",
       "      <td>2.190637</td>\n",
       "      <td>-115.543472</td>\n",
       "      <td>13.809172</td>\n",
       "      <td>110.103751</td>\n",
       "      <td>11.503708</td>\n",
       "      <td>0.409258</td>\n",
       "      <td>27.883253</td>\n",
       "      <td>94.258542</td>\n",
       "    </tr>\n",
       "    <tr>\n",
       "      <th>998</th>\n",
       "      <td>1.997998</td>\n",
       "      <td>-39.725567</td>\n",
       "      <td>-28.115414</td>\n",
       "      <td>0.492894</td>\n",
       "      <td>33.426211</td>\n",
       "      <td>-83.998028</td>\n",
       "      <td>43.117706</td>\n",
       "      <td>21.604596</td>\n",
       "      <td>57.293749</td>\n",
       "      <td>-71.824574</td>\n",
       "      <td>...</td>\n",
       "      <td>-60.384272</td>\n",
       "      <td>-32.226251</td>\n",
       "      <td>0.948811</td>\n",
       "      <td>-117.180880</td>\n",
       "      <td>12.580823</td>\n",
       "      <td>109.235287</td>\n",
       "      <td>10.348831</td>\n",
       "      <td>-0.801770</td>\n",
       "      <td>26.802116</td>\n",
       "      <td>93.385145</td>\n",
       "    </tr>\n",
       "    <tr>\n",
       "      <th>999</th>\n",
       "      <td>2.000000</td>\n",
       "      <td>-39.118378</td>\n",
       "      <td>-27.439358</td>\n",
       "      <td>1.239819</td>\n",
       "      <td>34.370429</td>\n",
       "      <td>-83.493487</td>\n",
       "      <td>44.046532</td>\n",
       "      <td>22.520505</td>\n",
       "      <td>58.342113</td>\n",
       "      <td>-71.282274</td>\n",
       "      <td>...</td>\n",
       "      <td>-59.902228</td>\n",
       "      <td>-31.565200</td>\n",
       "      <td>1.738263</td>\n",
       "      <td>-116.788054</td>\n",
       "      <td>13.383808</td>\n",
       "      <td>110.399081</td>\n",
       "      <td>11.225562</td>\n",
       "      <td>0.018661</td>\n",
       "      <td>27.752907</td>\n",
       "      <td>94.544086</td>\n",
       "    </tr>\n",
       "  </tbody>\n",
       "</table>\n",
       "<p>1000 rows × 101 columns</p>\n",
       "</div>"
      ],
      "text/plain": [
       "          0          1          2         3          4          5    \\\n",
       "0    0.000000   4.983091   3.769339  5.594828   6.429803   4.511528   \n",
       "1    0.002002   3.614394   2.396633  4.225133   5.058559   3.141485   \n",
       "2    0.004004   4.188195   2.966396  4.797931   5.629813   3.713902   \n",
       "3    0.006006   5.445592   4.219727  6.054320   6.884664   4.969878   \n",
       "4    0.008008   5.067521   3.837561  5.675236   6.504048   4.590350   \n",
       "..        ...        ...        ...       ...        ...        ...   \n",
       "995  1.991992 -37.621743 -26.216957  2.179613  34.525805 -81.587062   \n",
       "996  1.993994 -38.413531 -26.940495  1.526510  34.067619 -82.481098   \n",
       "997  1.995996 -38.302053 -26.760562  1.777022  34.513839 -82.472001   \n",
       "998  1.997998 -39.725567 -28.115414  0.492894  33.426211 -83.998028   \n",
       "999  2.000000 -39.118378 -27.439358  1.239819  34.370429 -83.493487   \n",
       "\n",
       "           6          7          8          9    ...        91         92   \\\n",
       "0     6.706383   2.911751  -2.864652  -3.093433  ...   6.667738   5.885562   \n",
       "1     5.346220   1.538843  -4.236502  -4.464649  ...   5.312463   4.525002   \n",
       "2     5.928572   2.108423  -3.665847  -3.893386  ...   5.899704   5.106895   \n",
       "3     7.194535   3.361588  -2.411586  -2.638543  ...   7.170558   6.372337   \n",
       "4     6.825046   2.979275  -2.792786  -3.019186  ...   6.805961   6.002265   \n",
       "..         ...        ...        ...        ...  ...        ...        ...   \n",
       "995  44.262737  22.788572  58.082286 -69.526880  ... -57.907315 -30.282534   \n",
       "996  43.789529  22.302350  57.727557 -70.383159  ... -58.823098 -31.021199   \n",
       "997  44.220604  22.720442  58.277463 -70.336305  ... -58.835998 -30.856352   \n",
       "998  43.117706  21.604596  57.293749 -71.824574  ... -60.384272 -32.226251   \n",
       "999  44.046532  22.520505  58.342113 -71.282274  ... -59.902228 -31.565200   \n",
       "\n",
       "          93          94         95          96         97        98   \\\n",
       "0   -2.052453   -2.984045   5.750429    2.135754  -1.234049  3.500585   \n",
       "1   -3.410375   -4.346935   4.396159    0.773647  -2.607035  2.130640   \n",
       "2   -2.825807   -3.767381   4.984377    1.354042  -2.037531  2.703165   \n",
       "3   -1.557653   -2.504284   6.256181    2.618039  -0.784438  3.959257   \n",
       "4   -1.924977   -2.876709   5.892506    2.246572  -1.166821  3.579851   \n",
       "..        ...         ...        ...         ...        ...       ...   \n",
       "995  2.509291 -114.436776  14.101042  109.678623  11.649459  0.666863   \n",
       "996  1.898045 -115.441524  13.503160  109.438779  11.124500  0.086051   \n",
       "997  2.190637 -115.543472  13.809172  110.103751  11.503708  0.409258   \n",
       "998  0.948811 -117.180880  12.580823  109.235287  10.348831 -0.801770   \n",
       "999  1.738263 -116.788054  13.383808  110.399081  11.225562  0.018661   \n",
       "\n",
       "           99         100  \n",
       "0     3.206284  -2.015092  \n",
       "1     1.840478  -3.376963  \n",
       "2     2.417138  -2.796368  \n",
       "3     3.677362  -1.532206  \n",
       "4     3.302087  -1.903542  \n",
       "..         ...        ...  \n",
       "995  27.882475  93.843512  \n",
       "996  27.430621  93.598580  \n",
       "997  27.883253  94.258542  \n",
       "998  26.802116  93.385145  \n",
       "999  27.752907  94.544086  \n",
       "\n",
       "[1000 rows x 101 columns]"
      ]
     },
     "execution_count": 19,
     "metadata": {},
     "output_type": "execute_result"
    }
   ],
   "source": [
    "import pandas as pd\n",
    "data = pd.read_excel(\"E01-RegresionLineal.xlsx\")\n",
    "data"
   ]
  },
  {
   "cell_type": "code",
   "execution_count": 23,
   "id": "feb405d3",
   "metadata": {},
   "outputs": [],
   "source": [
    "import scipy.optimize as opt\n",
    "import numpy as np\n",
    "\n",
    "x = np.array(data[0])\n",
    "y = np.array(data[37])\n"
   ]
  },
  {
   "cell_type": "code",
   "execution_count": null,
   "id": "fa67533a",
   "metadata": {},
   "outputs": [],
   "source": []
  },
  {
   "cell_type": "markdown",
   "id": "8714fbd7",
   "metadata": {},
   "source": [
    "1. Ajuste los datos con polinomios de grados 1, 3, y 5. Muestre los errores de forma gráfica. ¿Qué polinomio se ajusta mejor?"
   ]
  },
  {
   "cell_type": "code",
   "execution_count": 35,
   "id": "027ba631",
   "metadata": {},
   "outputs": [],
   "source": [
    "m = 1000\n",
    "\n",
    "# y = b0 + b1*x \n",
    "beta = np.random.rand(2)\n",
    "ones = np.ones([m, 1])\n",
    "x_factor = np.reshape(x, [m, 1])\n",
    "X = np.hstack( (ones, x_factor) )\n",
    "y_vector = np.reshape(y, [m, 1])\n",
    "sol1 = opt.minimize(funcion_de_costo, beta, args=(X, y_vector))\n",
    "\n",
    "# y = b0 + b1*x + b2*x**2 + b3*x**3\n",
    "beta3 = np.random.rand(4)\n",
    "x3_factor = np.reshape(x**3, [m, 1])\n",
    "X3 = np.hstack( (ones, x_factor, x2_factor, x3_factor) )\n",
    "sol3 = opt.minimize(funcion_de_costo, beta3, args=(X3, y_vector))\n",
    "\n",
    "\n",
    "# y = b0 + b1*x + b2*x**2 + b3*x**3 + b4*x**4 + b5*x**5\n",
    "beta5 = np.random.rand(6)\n",
    "x5_factor = np.reshape(x**5, [m, 1])\n",
    "X5 = np.hstack( (ones, x_factor, x2_factor, x3_factor, x4_factor, x5_factor) )\n",
    "sol5 = opt.minimize(funcion_de_costo, beta5, args=(X5, y_vector))\n",
    "\n",
    "def funcion_de_costo(beta, X, y) :\n",
    "    m, n = X.shape\n",
    "    beta = np.reshape(beta, [n, 1])\n",
    "    y_pred = X @ beta\n",
    "    error = y_pred - y\n",
    "    return (error.T @ error)[0][0]"
   ]
  },
  {
   "cell_type": "code",
   "execution_count": 36,
   "id": "867c7c09",
   "metadata": {},
   "outputs": [
    {
     "data": {
      "text/plain": [
       "array([-3.60300853,  7.37777301])"
      ]
     },
     "execution_count": 36,
     "metadata": {},
     "output_type": "execute_result"
    }
   ],
   "source": [
    "sol1.x"
   ]
  },
  {
   "cell_type": "code",
   "execution_count": 37,
   "id": "02c63d5b",
   "metadata": {},
   "outputs": [
    {
     "data": {
      "text/plain": [
       "array([-2.14968993,  5.49584479, -2.78014455,  2.06659349])"
      ]
     },
     "execution_count": 37,
     "metadata": {},
     "output_type": "execute_result"
    }
   ],
   "source": [
    "sol3.x"
   ]
  },
  {
   "cell_type": "code",
   "execution_count": 38,
   "id": "3a7b4e68",
   "metadata": {},
   "outputs": [
    {
     "data": {
      "text/plain": [
       "array([-1.79232049,  1.78535928,  6.02986141, -5.49039016,  2.41603109,\n",
       "       -0.18960482])"
      ]
     },
     "execution_count": 38,
     "metadata": {},
     "output_type": "execute_result"
    }
   ],
   "source": [
    "sol5.x"
   ]
  },
  {
   "cell_type": "code",
   "execution_count": 45,
   "id": "2ab04b85",
   "metadata": {},
   "outputs": [],
   "source": [
    "def f1(x):\n",
    "    return -3.60300853 + 7.37777301*x\n",
    "\n",
    "def f3(x):\n",
    "    return -2.14968993 + 5.49584479*x + -2.78014455*x**2 +  2.06659349*x**3\n",
    "\n",
    "def f5(x):\n",
    "    return -1.79232049 + 1.78535928*x + 6.02986141*x**2 +  -5.49039016*x**3 +  2.41603109*x**4 + -0.18960482*x**5"
   ]
  },
  {
   "cell_type": "code",
   "execution_count": 46,
   "id": "441debec",
   "metadata": {},
   "outputs": [
    {
     "data": {
      "text/plain": [
       "[<matplotlib.lines.Line2D at 0x2511c9cd110>]"
      ]
     },
     "execution_count": 46,
     "metadata": {},
     "output_type": "execute_result"
    },
    {
     "data": {
      "image/png": "[encoded data removed]",
      "text/plain": [
       "<Figure size 640x480 with 1 Axes>"
      ]
     },
     "metadata": {},
     "output_type": "display_data"
    }
   ],
   "source": [
    "import matplotlib.pyplot as plt\n",
    "%matplotlib inline\n",
    "\n",
    "plt.figure()\n",
    "plt.scatter(x, y)\n",
    "plt.plot(x, f1(x), \"b\", label = \"lineal\")\n",
    "plt.plot(x, f3(x), \"o\", label = \"cubica\")\n",
    "plt.plot(x, f5(x), \"m\",label = \"quinto grado\")"
   ]
  },
  {
   "cell_type": "markdown",
   "id": "59862478",
   "metadata": {},
   "source": [
    "2. Muestre en un gráfico los datos y el polinomio que mejor se ajuste."
   ]
  },
  {
   "cell_type": "code",
   "execution_count": 47,
   "id": "27387213",
   "metadata": {},
   "outputs": [
    {
     "data": {
      "text/plain": [
       "[<matplotlib.lines.Line2D at 0x2511ca4b150>]"
      ]
     },
     "execution_count": 47,
     "metadata": {},
     "output_type": "execute_result"
    },
    {
     "data": {
      "image/png": "[encoded data removed]",
      "text/plain": [
       "<Figure size 640x480 with 1 Axes>"
      ]
     },
     "metadata": {},
     "output_type": "display_data"
    }
   ],
   "source": [
    "import matplotlib.pyplot as plt\n",
    "%matplotlib inline\n",
    "\n",
    "plt.figure()\n",
    "plt.scatter(x, y)\n",
    "plt.plot(x, f5(x), \"m\",label = \"quinto grado\")"
   ]
  },
  {
   "cell_type": "markdown",
   "id": "238f342a",
   "metadata": {},
   "source": [
    "3. Use el modelo para averiguar el valor de $y$ cuando:\n",
    "- $x=0.001$\n",
    "- $x=-0.1$\n",
    "- $x=2.1$"
   ]
  },
  {
   "cell_type": "code",
   "execution_count": 44,
   "id": "82706e4e",
   "metadata": {},
   "outputs": [
    {
     "data": {
      "text/plain": [
       "-1.7905291063465645"
      ]
     },
     "execution_count": 44,
     "metadata": {},
     "output_type": "execute_result"
    }
   ],
   "source": [
    "f5(0.001)"
   ]
  },
  {
   "cell_type": "code",
   "execution_count": 48,
   "id": "b5d4cfe7",
   "metadata": {},
   "outputs": [
    {
     "data": {
      "text/plain": [
       "-1.9048239145828"
      ]
     },
     "execution_count": 48,
     "metadata": {},
     "output_type": "execute_result"
    }
   ],
   "source": [
    "f5(-0.1)"
   ]
  },
  {
   "cell_type": "code",
   "execution_count": 49,
   "id": "51beb7c1",
   "metadata": {},
   "outputs": [
    {
     "data": {
      "text/plain": [
       "16.945681436100813"
      ]
     },
     "execution_count": 49,
     "metadata": {},
     "output_type": "execute_result"
    }
   ],
   "source": [
    "f5(2.1)"
   ]
  },
  {
   "cell_type": "markdown",
   "id": "4af77457",
   "metadata": {},
   "source": [
    "4. ¿Qué diferencias encuentra en cuanto a la interpolación y la extrapolación?"
   ]
  },
  {
   "cell_type": "markdown",
   "id": "2e5066df",
   "metadata": {},
   "source": []
  },
  {
   "cell_type": "markdown",
   "id": "7f451519",
   "metadata": {},
   "source": []
  },
  {
   "cell_type": "markdown",
   "id": "fc693d0d",
   "metadata": {},
   "source": []
  },
  {
   "cell_type": "markdown",
   "id": "3ff8002f",
   "metadata": {},
   "source": [
    "5. Agregue un factor $\\cos{(10x)}$ a su modelo y grafique los resultados. ¿Mejoró el resultado?"
   ]
  },
  {
   "cell_type": "markdown",
   "id": "b19662ba",
   "metadata": {},
   "source": [
    "En este ejercicio me trbae al inicio al no poder importar correctamente la tabla que se nos había dado. Al final me di cuenta que todo fue porque no escribí bien el nombre del archivo y por eso mismo no se podía abrir. \n",
    "\n",
    "Lo corregí y empece a copiar de lso trabajos ya hechos lo que habpiamos realizado, solo que hice un salto en las x's ya que pedioa 1, 3 y 5. y por ende estas funciones iban a quedar más largas.\n",
    "\n",
    "Creo que lo que me afecto bastate fueron los nervios porque los últimos dos ejecicios si sabía como realizarlos, más me trababa en alfo pequeño y me bloqueaba totalmente.\n",
    "\n",
    "El primer insciso la verdad se me complico bastante visualizarlo, espero poder mejorar en eso."
   ]
  }
 ],
 "metadata": {
  "kernelspec": {
   "display_name": "Python 3 (ipykernel)",
   "language": "python",
   "name": "python3"
  },
  "language_info": {
   "codemirror_mode": {
    "name": "ipython",
    "version": 3
   },
   "file_extension": ".py",
   "mimetype": "text/x-python",
   "name": "python",
   "nbconvert_exporter": "python",
   "pygments_lexer": "ipython3",
   "version": "3.11.4"
  }
 },
 "nbformat": 4,
 "nbformat_minor": 5
}
