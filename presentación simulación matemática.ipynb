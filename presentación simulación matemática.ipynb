{
 "cells": [
  {
   "cell_type": "markdown",
   "id": "76f8bc3e",
   "metadata": {},
   "source": [
    "# Presentación 14-08-23 "
   ]
  },
  {
   "cell_type": "markdown",
   "id": "1e6b0094",
   "metadata": {},
   "source": [
    "### Mi nombre es Daniela Serrano Barba"
   ]
  },
  {
   "cell_type": "markdown",
   "id": "ed3a2ad2",
   "metadata": {},
   "source": [
    "Estoy estudiando mi 3er semestre en **Ingeniería civil**. Yo estaba entre estudiar *arquitectura* o ingeniería, pero me decidí porque tengo muchos bloqueos creativos y pensé que sería más sencillo ver fórmulas."
   ]
  },
  {
   "cell_type": "markdown",
   "id": "bba3bb02",
   "metadata": {},
   "source": [
    "Un tema que me llama la atención de mi carrera es el uso de la *sismología en las edificaciones*. Todos los procesos que se tienen que llevar a cabo para que las constucciones puedan soportar simsos se me hace algo muy interesante. Creo que lo veré hasta 8vo semestre."
   ]
  },
  {
   "cell_type": "markdown",
   "id": "33f615e3",
   "metadata": {},
   "source": [
    "Cosas que me gustaría hacer en la vida:"
   ]
  },
  {
   "cell_type": "markdown",
   "id": "38b2c259",
   "metadata": {},
   "source": [
    "1. Lanzarme de un paracaídas\n",
    "2. Conocer Mykonos\n",
    "3. Tener un negocio a parte de mi carrera"
   ]
  },
  {
   "cell_type": "markdown",
   "id": "a88b366f",
   "metadata": {},
   "source": [
    "Me considero una persona:"
   ]
  },
  {
   "cell_type": "markdown",
   "id": "1d6fc666",
   "metadata": {},
   "source": [
    "- trabajadora\n",
    "- emocional\n",
    "- inteligente\n",
    "- distraída \n",
    "- divertida"
   ]
  },
  {
   "cell_type": "markdown",
   "id": "81ba2d25",
   "metadata": {},
   "source": [
    "$$ x= \\frac{y^2}{\\sqrt{y}} $$"
   ]
  },
  {
   "cell_type": "markdown",
   "id": "b26eeb22",
   "metadata": {},
   "source": [
    "![](https://www.python.org/static/community_logos/python-logo-master-v3-TM.png)"
   ]
  }
 ],
 "metadata": {
  "kernelspec": {
   "display_name": "Python 3 (ipykernel)",
   "language": "python",
   "name": "python3"
  },
  "language_info": {
   "codemirror_mode": {
    "name": "ipython",
    "version": 3
   },
   "file_extension": ".py",
   "mimetype": "text/x-python",
   "name": "python",
   "nbconvert_exporter": "python",
   "pygments_lexer": "ipython3",
   "version": "3.11.4"
  }
 },
 "nbformat": 4,
 "nbformat_minor": 5
}
