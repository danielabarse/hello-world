{
 "cells": [
  {
   "cell_type": "markdown",
   "id": "b7a3e681",
   "metadata": {},
   "source": [
    "# Repaso general de Python"
   ]
  },
  {
   "cell_type": "markdown",
   "id": "0e948574",
   "metadata": {},
   "source": [
    "##"
   ]
  },
  {
   "cell_type": "markdown",
   "id": "6525e954",
   "metadata": {},
   "source": [
    "## Sintaxis  y control de flujo"
   ]
  },
  {
   "cell_type": "code",
   "execution_count": 1,
   "id": "fa69ee78",
   "metadata": {},
   "outputs": [
    {
     "name": "stdout",
     "output_type": "stream",
     "text": [
      "hola\n"
     ]
    }
   ],
   "source": [
    "# Declaración y asignación de variables\n",
    "a = 2\n",
    "b = 3\n",
    "c = \"hola\"\n",
    "print(c)"
   ]
  },
  {
   "cell_type": "code",
   "execution_count": 2,
   "id": "bddf3db9",
   "metadata": {},
   "outputs": [
    {
     "name": "stdout",
     "output_type": "stream",
     "text": [
      "hola\n",
      "2.5\n"
     ]
    }
   ],
   "source": [
    "c = \"hola\"\n",
    "print(c)\n",
    "c=2.5\n",
    "print(c)"
   ]
  },
  {
   "cell_type": "markdown",
   "id": "76ba3140",
   "metadata": {},
   "source": [
    "## if-else"
   ]
  },
  {
   "cell_type": "code",
   "execution_count": 4,
   "id": "93515d73",
   "metadata": {},
   "outputs": [
    {
     "name": "stdout",
     "output_type": "stream",
     "text": [
      "sol\n"
     ]
    }
   ],
   "source": [
    "moneda = \"sol\"\n",
    "if moneda == \"sol\":\n",
    "    print(\"sol\")\n",
    "else:\n",
    "    print(\"águila\")\n",
    "    "
   ]
  },
  {
   "cell_type": "code",
   "execution_count": 5,
   "id": "8ead2af4",
   "metadata": {},
   "outputs": [
    {
     "name": "stdout",
     "output_type": "stream",
     "text": [
      "hola\n"
     ]
    }
   ],
   "source": [
    "import numpy as np\n",
    "dado = np.random.randint (1,7)\n",
    "#el primero numero es incluido y el otro es exlcuido, por lo tanto se tomarán números del 1-6.\n",
    "\n",
    "if dado == 1:\n",
    "    print(\"hola\")\n",
    "elif dado == 2:\n",
    "    print(\"bye\")\n",
    "elif dado == 3:\n",
    "    print(\"tres leches\")\n",
    "elif dado == 4:\n",
    "    print(\"chocolate\")\n",
    "elif dado == 5:\n",
    "    print(\"red velvet\")\n",
    "else:\n",
    "    print(\"sies\")"
   ]
  },
  {
   "cell_type": "markdown",
   "id": "eb94b06b",
   "metadata": {},
   "source": [
    "## Ciclos"
   ]
  },
  {
   "cell_type": "code",
   "execution_count": 6,
   "id": "ce3e2bcc",
   "metadata": {},
   "outputs": [
    {
     "name": "stdout",
     "output_type": "stream",
     "text": [
      "evaporación\n",
      "condensación\n",
      "precipitación\n",
      "\n",
      "evaporación\n",
      "condensación\n",
      "precipitación\n",
      "\n"
     ]
    }
   ],
   "source": [
    "contador = 0\n",
    "\n",
    "while(contador < 2):\n",
    "    print(\"evaporación\")\n",
    "    print(\"condensación\")\n",
    "    print(\"precipitación\")\n",
    "    print(\"\")\n",
    "    contador +=1 #contador= contador + 1"
   ]
  },
  {
   "cell_type": "code",
   "execution_count": 7,
   "id": "f8e781c2",
   "metadata": {},
   "outputs": [
    {
     "name": "stdout",
     "output_type": "stream",
     "text": [
      "evaporación\n",
      "condensación\n",
      "precipitación\n",
      "\n",
      "evaporación\n",
      "condensación\n",
      "precipitación\n",
      "\n"
     ]
    }
   ],
   "source": [
    "for contador in range(2):\n",
    "    # range crea una lista nativa a Python con valores sucesios emepzando en 0 y terminando en el valor - 1\n",
    "    #range [0, valor)\n",
    "    print(\"evaporación\")\n",
    "    print(\"condensación\")\n",
    "    print(\"precipitación\")\n",
    "    print(\"\")"
   ]
  },
  {
   "cell_type": "code",
   "execution_count": 8,
   "id": "6ed80bec",
   "metadata": {},
   "outputs": [
    {
     "name": "stdout",
     "output_type": "stream",
     "text": [
      "7\n",
      "no es múltiplo de 3\n"
     ]
    }
   ],
   "source": [
    "num= np.random.randint(1,16)\n",
    "print(num)\n",
    "if num % 3 == 0:\n",
    "    print(\"múltiplo de 3\")\n",
    "else:\n",
    "    print(\"no es múltiplo de 3\")"
   ]
  },
  {
   "cell_type": "markdown",
   "id": "45ff991c",
   "metadata": {},
   "source": [
    "## Booleanos"
   ]
  },
  {
   "cell_type": "code",
   "execution_count": 9,
   "id": "abea4c68",
   "metadata": {},
   "outputs": [
    {
     "data": {
      "text/plain": [
       "False"
      ]
     },
     "execution_count": 9,
     "metadata": {},
     "output_type": "execute_result"
    }
   ],
   "source": [
    "a = 2 \n",
    "b = 3\n",
    "a == b "
   ]
  },
  {
   "cell_type": "code",
   "execution_count": 10,
   "id": "2589ad74",
   "metadata": {},
   "outputs": [
    {
     "data": {
      "text/plain": [
       "True"
      ]
     },
     "execution_count": 10,
     "metadata": {},
     "output_type": "execute_result"
    }
   ],
   "source": [
    "a != b"
   ]
  },
  {
   "cell_type": "code",
   "execution_count": 11,
   "id": "9240f821",
   "metadata": {},
   "outputs": [
    {
     "data": {
      "text/plain": [
       "False"
      ]
     },
     "execution_count": 11,
     "metadata": {},
     "output_type": "execute_result"
    }
   ],
   "source": [
    "a > b"
   ]
  },
  {
   "cell_type": "code",
   "execution_count": 12,
   "id": "b2d56cb6",
   "metadata": {},
   "outputs": [
    {
     "data": {
      "text/plain": [
       "False"
      ]
     },
     "execution_count": 12,
     "metadata": {},
     "output_type": "execute_result"
    }
   ],
   "source": [
    "a >= b"
   ]
  },
  {
   "cell_type": "markdown",
   "id": "779f1f9e",
   "metadata": {},
   "source": [
    "## Objetos"
   ]
  },
  {
   "cell_type": "markdown",
   "id": "dd016115",
   "metadata": {},
   "source": [
    "### Hilos"
   ]
  },
  {
   "cell_type": "code",
   "execution_count": 13,
   "id": "e743671e",
   "metadata": {},
   "outputs": [
    {
     "name": "stdout",
     "output_type": "stream",
     "text": [
      "Hola a todos\n"
     ]
    }
   ],
   "source": [
    "enunciado = \"Hola a todos\"\n",
    "print(enunciado)"
   ]
  },
  {
   "cell_type": "code",
   "execution_count": 16,
   "id": "545cccbf",
   "metadata": {},
   "outputs": [
    {
     "name": "stdout",
     "output_type": "stream",
     "text": [
      " aaaaabbbbcccdddddeeeeefff\n"
     ]
    }
   ],
   "source": [
    "enunciado2 = \" aaaaabbbbcccdddddeeeeefff\"\n",
    "print(enunciado2)"
   ]
  },
  {
   "cell_type": "markdown",
   "id": "054dc76d",
   "metadata": {},
   "source": [
    "### Listas"
   ]
  },
  {
   "cell_type": "code",
   "execution_count": 17,
   "id": "c5a9c51c",
   "metadata": {},
   "outputs": [
    {
     "data": {
      "text/plain": [
       "[1, 2, 3, 4]"
      ]
     },
     "execution_count": 17,
     "metadata": {},
     "output_type": "execute_result"
    }
   ],
   "source": [
    "lista = [1, 2, 3, 4]\n",
    "lista"
   ]
  },
  {
   "cell_type": "code",
   "execution_count": 19,
   "id": "9f130f4e",
   "metadata": {},
   "outputs": [],
   "source": [
    "lista = [1, 3.1416, \"hola\"]"
   ]
  },
  {
   "cell_type": "code",
   "execution_count": 21,
   "id": "700ba0b4",
   "metadata": {},
   "outputs": [
    {
     "data": {
      "text/plain": [
       "1"
      ]
     },
     "execution_count": 21,
     "metadata": {},
     "output_type": "execute_result"
    }
   ],
   "source": [
    "lista[0]"
   ]
  },
  {
   "cell_type": "code",
   "execution_count": 22,
   "id": "b2126c73",
   "metadata": {},
   "outputs": [
    {
     "data": {
      "text/plain": [
       "3.1416"
      ]
     },
     "execution_count": 22,
     "metadata": {},
     "output_type": "execute_result"
    }
   ],
   "source": [
    "lista[1]"
   ]
  },
  {
   "cell_type": "code",
   "execution_count": 23,
   "id": "21f3f306",
   "metadata": {},
   "outputs": [
    {
     "data": {
      "text/plain": [
       "'hola'"
      ]
     },
     "execution_count": 23,
     "metadata": {},
     "output_type": "execute_result"
    }
   ],
   "source": [
    "lista[-1]"
   ]
  },
  {
   "cell_type": "code",
   "execution_count": 25,
   "id": "c2d52bae",
   "metadata": {},
   "outputs": [],
   "source": [
    "lista1 = [1, 2, 3]\n",
    "lista2 = [ \"a\", \"b\", \"c\"]\n",
    "lista3 = [ 7, 8, 9]\n",
    "\n",
    "lista = [lista1, lista2, lista3]"
   ]
  },
  {
   "cell_type": "code",
   "execution_count": 26,
   "id": "8d37a9a1",
   "metadata": {},
   "outputs": [
    {
     "data": {
      "text/plain": [
       "7"
      ]
     },
     "execution_count": 26,
     "metadata": {},
     "output_type": "execute_result"
    }
   ],
   "source": [
    "lista[2][0]"
   ]
  },
  {
   "cell_type": "markdown",
   "id": "3e362fb1",
   "metadata": {},
   "source": [
    "## Diccionarios"
   ]
  },
  {
   "cell_type": "code",
   "execution_count": 27,
   "id": "93e59ded",
   "metadata": {},
   "outputs": [],
   "source": [
    "diccionario = { 0 : \"cero\", \n",
    "                1 : np.pi,\n",
    "               \"Gabriel\" : \"693871\",\n",
    "               \"listas\": lista}"
   ]
  },
  {
   "cell_type": "code",
   "execution_count": null,
   "id": "dd94cbc8",
   "metadata": {},
   "outputs": [],
   "source": [
    "diccionario"
   ]
  },
  {
   "cell_type": "markdown",
   "id": "1d91faae",
   "metadata": {},
   "source": [
    "## Funciones"
   ]
  },
  {
   "cell_type": "code",
   "execution_count": 33,
   "id": "a647e925",
   "metadata": {},
   "outputs": [],
   "source": [
    "def funcion1() :\n",
    "    print (\"Estoy dentro de la función 1\")"
   ]
  },
  {
   "cell_type": "code",
   "execution_count": 34,
   "id": "124cd976",
   "metadata": {},
   "outputs": [
    {
     "name": "stdout",
     "output_type": "stream",
     "text": [
      "Estoy dentro de la función 1\n"
     ]
    }
   ],
   "source": [
    "funcion1()"
   ]
  },
  {
   "cell_type": "code",
   "execution_count": 35,
   "id": "d69aa9c5",
   "metadata": {},
   "outputs": [],
   "source": [
    "def suma(a, b):\n",
    "    return a + b"
   ]
  },
  {
   "cell_type": "code",
   "execution_count": 36,
   "id": "3f1b0b0d",
   "metadata": {},
   "outputs": [
    {
     "data": {
      "text/plain": [
       "7"
      ]
     },
     "execution_count": 36,
     "metadata": {},
     "output_type": "execute_result"
    }
   ],
   "source": [
    "suma (2, 5)"
   ]
  },
  {
   "cell_type": "code",
   "execution_count": 37,
   "id": "3253775f",
   "metadata": {},
   "outputs": [],
   "source": [
    "def funcion_con_parametros_predefinidos(a=1, b=10, c=100):\n",
    "    return a + b + c"
   ]
  },
  {
   "cell_type": "code",
   "execution_count": 46,
   "id": "6d7dbfeb",
   "metadata": {},
   "outputs": [
    {
     "data": {
      "text/plain": [
       "111"
      ]
     },
     "execution_count": 46,
     "metadata": {},
     "output_type": "execute_result"
    }
   ],
   "source": [
    "funcion_con_parametros_predefinidos()"
   ]
  },
  {
   "cell_type": "code",
   "execution_count": 47,
   "id": "2a16352e",
   "metadata": {},
   "outputs": [
    {
     "data": {
      "text/plain": [
       "151"
      ]
     },
     "execution_count": 47,
     "metadata": {},
     "output_type": "execute_result"
    }
   ],
   "source": [
    "funcion_con_parametros_predefinidos(b=50)"
   ]
  },
  {
   "cell_type": "markdown",
   "id": "1ba240a8",
   "metadata": {},
   "source": [
    "## Lectura rápida de archivos"
   ]
  },
  {
   "cell_type": "code",
   "execution_count": 31,
   "id": "2461f589",
   "metadata": {},
   "outputs": [
    {
     "data": {
      "text/html": [
       "<div>\n",
       "<style scoped>\n",
       "    .dataframe tbody tr th:only-of-type {\n",
       "        vertical-align: middle;\n",
       "    }\n",
       "\n",
       "    .dataframe tbody tr th {\n",
       "        vertical-align: top;\n",
       "    }\n",
       "\n",
       "    .dataframe thead th {\n",
       "        text-align: right;\n",
       "    }\n",
       "</style>\n",
       "<table border=\"1\" class=\"dataframe\">\n",
       "  <thead>\n",
       "    <tr style=\"text-align: right;\">\n",
       "      <th></th>\n",
       "      <th>ID Persona</th>\n",
       "      <th>Peso</th>\n",
       "      <th>Estatura</th>\n",
       "    </tr>\n",
       "  </thead>\n",
       "  <tbody>\n",
       "    <tr>\n",
       "      <th>0</th>\n",
       "      <td>1</td>\n",
       "      <td>67</td>\n",
       "      <td>1.41</td>\n",
       "    </tr>\n",
       "    <tr>\n",
       "      <th>1</th>\n",
       "      <td>2</td>\n",
       "      <td>99</td>\n",
       "      <td>1.83</td>\n",
       "    </tr>\n",
       "    <tr>\n",
       "      <th>2</th>\n",
       "      <td>3</td>\n",
       "      <td>86</td>\n",
       "      <td>1.90</td>\n",
       "    </tr>\n",
       "    <tr>\n",
       "      <th>3</th>\n",
       "      <td>4</td>\n",
       "      <td>118</td>\n",
       "      <td>1.65</td>\n",
       "    </tr>\n",
       "    <tr>\n",
       "      <th>4</th>\n",
       "      <td>5</td>\n",
       "      <td>109</td>\n",
       "      <td>1.67</td>\n",
       "    </tr>\n",
       "    <tr>\n",
       "      <th>...</th>\n",
       "      <td>...</td>\n",
       "      <td>...</td>\n",
       "      <td>...</td>\n",
       "    </tr>\n",
       "    <tr>\n",
       "      <th>95</th>\n",
       "      <td>96</td>\n",
       "      <td>88</td>\n",
       "      <td>1.49</td>\n",
       "    </tr>\n",
       "    <tr>\n",
       "      <th>96</th>\n",
       "      <td>97</td>\n",
       "      <td>98</td>\n",
       "      <td>1.54</td>\n",
       "    </tr>\n",
       "    <tr>\n",
       "      <th>97</th>\n",
       "      <td>98</td>\n",
       "      <td>95</td>\n",
       "      <td>1.57</td>\n",
       "    </tr>\n",
       "    <tr>\n",
       "      <th>98</th>\n",
       "      <td>99</td>\n",
       "      <td>61</td>\n",
       "      <td>1.61</td>\n",
       "    </tr>\n",
       "    <tr>\n",
       "      <th>99</th>\n",
       "      <td>100</td>\n",
       "      <td>107</td>\n",
       "      <td>1.62</td>\n",
       "    </tr>\n",
       "  </tbody>\n",
       "</table>\n",
       "<p>100 rows × 3 columns</p>\n",
       "</div>"
      ],
      "text/plain": [
       "    ID Persona  Peso  Estatura\n",
       "0            1    67      1.41\n",
       "1            2    99      1.83\n",
       "2            3    86      1.90\n",
       "3            4   118      1.65\n",
       "4            5   109      1.67\n",
       "..         ...   ...       ...\n",
       "95          96    88      1.49\n",
       "96          97    98      1.54\n",
       "97          98    95      1.57\n",
       "98          99    61      1.61\n",
       "99         100   107      1.62\n",
       "\n",
       "[100 rows x 3 columns]"
      ]
     },
     "execution_count": 31,
     "metadata": {},
     "output_type": "execute_result"
    }
   ],
   "source": [
    "import pandas as pd\n",
    "data = pd.read_excel(\"datosPE.xlsx\")\n",
    "data"
   ]
  },
  {
   "cell_type": "code",
   "execution_count": 38,
   "id": "50796a34",
   "metadata": {},
   "outputs": [
    {
     "data": {
      "text/plain": [
       "Index(['ID Persona', 'Peso', 'Estatura'], dtype='object')"
      ]
     },
     "execution_count": 38,
     "metadata": {},
     "output_type": "execute_result"
    }
   ],
   "source": [
    "data.columns"
   ]
  },
  {
   "cell_type": "code",
   "execution_count": 39,
   "id": "5b6776e5",
   "metadata": {},
   "outputs": [
    {
     "data": {
      "text/plain": [
       "0      67\n",
       "1      99\n",
       "2      86\n",
       "3     118\n",
       "4     109\n",
       "     ... \n",
       "95     88\n",
       "96     98\n",
       "97     95\n",
       "98     61\n",
       "99    107\n",
       "Name: Peso, Length: 100, dtype: int64"
      ]
     },
     "execution_count": 39,
     "metadata": {},
     "output_type": "execute_result"
    }
   ],
   "source": [
    "data[\"Peso\"]"
   ]
  },
  {
   "cell_type": "code",
   "execution_count": 41,
   "id": "b205bbfd",
   "metadata": {},
   "outputs": [
    {
     "data": {
      "text/plain": [
       "8558"
      ]
     },
     "execution_count": 41,
     "metadata": {},
     "output_type": "execute_result"
    }
   ],
   "source": [
    "data[\"Peso\"].sum()"
   ]
  },
  {
   "cell_type": "code",
   "execution_count": 43,
   "id": "76dff338",
   "metadata": {},
   "outputs": [
    {
     "data": {
      "text/html": [
       "<div>\n",
       "<style scoped>\n",
       "    .dataframe tbody tr th:only-of-type {\n",
       "        vertical-align: middle;\n",
       "    }\n",
       "\n",
       "    .dataframe tbody tr th {\n",
       "        vertical-align: top;\n",
       "    }\n",
       "\n",
       "    .dataframe thead th {\n",
       "        text-align: right;\n",
       "    }\n",
       "</style>\n",
       "<table border=\"1\" class=\"dataframe\">\n",
       "  <thead>\n",
       "    <tr style=\"text-align: right;\">\n",
       "      <th></th>\n",
       "      <th>ID Persona</th>\n",
       "      <th>Peso</th>\n",
       "      <th>Estatura</th>\n",
       "      <th>Peso en libras</th>\n",
       "    </tr>\n",
       "  </thead>\n",
       "  <tbody>\n",
       "    <tr>\n",
       "      <th>0</th>\n",
       "      <td>1</td>\n",
       "      <td>67</td>\n",
       "      <td>1.41</td>\n",
       "      <td>147.710009</td>\n",
       "    </tr>\n",
       "    <tr>\n",
       "      <th>1</th>\n",
       "      <td>2</td>\n",
       "      <td>99</td>\n",
       "      <td>1.83</td>\n",
       "      <td>218.258073</td>\n",
       "    </tr>\n",
       "    <tr>\n",
       "      <th>2</th>\n",
       "      <td>3</td>\n",
       "      <td>86</td>\n",
       "      <td>1.90</td>\n",
       "      <td>189.597922</td>\n",
       "    </tr>\n",
       "    <tr>\n",
       "      <th>3</th>\n",
       "      <td>4</td>\n",
       "      <td>118</td>\n",
       "      <td>1.65</td>\n",
       "      <td>260.145986</td>\n",
       "    </tr>\n",
       "    <tr>\n",
       "      <th>4</th>\n",
       "      <td>5</td>\n",
       "      <td>109</td>\n",
       "      <td>1.67</td>\n",
       "      <td>240.304343</td>\n",
       "    </tr>\n",
       "    <tr>\n",
       "      <th>...</th>\n",
       "      <td>...</td>\n",
       "      <td>...</td>\n",
       "      <td>...</td>\n",
       "      <td>...</td>\n",
       "    </tr>\n",
       "    <tr>\n",
       "      <th>95</th>\n",
       "      <td>96</td>\n",
       "      <td>88</td>\n",
       "      <td>1.49</td>\n",
       "      <td>194.007176</td>\n",
       "    </tr>\n",
       "    <tr>\n",
       "      <th>96</th>\n",
       "      <td>97</td>\n",
       "      <td>98</td>\n",
       "      <td>1.54</td>\n",
       "      <td>216.053446</td>\n",
       "    </tr>\n",
       "    <tr>\n",
       "      <th>97</th>\n",
       "      <td>98</td>\n",
       "      <td>95</td>\n",
       "      <td>1.57</td>\n",
       "      <td>209.439565</td>\n",
       "    </tr>\n",
       "    <tr>\n",
       "      <th>98</th>\n",
       "      <td>99</td>\n",
       "      <td>61</td>\n",
       "      <td>1.61</td>\n",
       "      <td>134.482247</td>\n",
       "    </tr>\n",
       "    <tr>\n",
       "      <th>99</th>\n",
       "      <td>100</td>\n",
       "      <td>107</td>\n",
       "      <td>1.62</td>\n",
       "      <td>235.895089</td>\n",
       "    </tr>\n",
       "  </tbody>\n",
       "</table>\n",
       "<p>100 rows × 4 columns</p>\n",
       "</div>"
      ],
      "text/plain": [
       "    ID Persona  Peso  Estatura  Peso en libras\n",
       "0            1    67      1.41      147.710009\n",
       "1            2    99      1.83      218.258073\n",
       "2            3    86      1.90      189.597922\n",
       "3            4   118      1.65      260.145986\n",
       "4            5   109      1.67      240.304343\n",
       "..         ...   ...       ...             ...\n",
       "95          96    88      1.49      194.007176\n",
       "96          97    98      1.54      216.053446\n",
       "97          98    95      1.57      209.439565\n",
       "98          99    61      1.61      134.482247\n",
       "99         100   107      1.62      235.895089\n",
       "\n",
       "[100 rows x 4 columns]"
      ]
     },
     "execution_count": 43,
     "metadata": {},
     "output_type": "execute_result"
    }
   ],
   "source": [
    "data[\"Peso en libras\"] = data[\"Peso\"]*2.204627\n",
    "data"
   ]
  },
  {
   "cell_type": "code",
   "execution_count": 44,
   "id": "d219120f",
   "metadata": {},
   "outputs": [],
   "source": [
    "data.to_excel(\"ejemplo_con_libras.xlsx\")"
   ]
  }
 ],
 "metadata": {
  "kernelspec": {
   "display_name": "Python 3 (ipykernel)",
   "language": "python",
   "name": "python3"
  },
  "language_info": {
   "codemirror_mode": {
    "name": "ipython",
    "version": 3
   },
   "file_extension": ".py",
   "mimetype": "text/x-python",
   "name": "python",
   "nbconvert_exporter": "python",
   "pygments_lexer": "ipython3",
   "version": "3.11.4"
  }
 },
 "nbformat": 4,
 "nbformat_minor": 5
}
